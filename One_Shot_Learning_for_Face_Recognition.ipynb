{
  "nbformat": 4,
  "nbformat_minor": 0,
  "metadata": {
    "kernelspec": {
      "name": "python3",
      "display_name": "Python 3"
    },
    "language_info": {
      "codemirror_mode": {
        "name": "ipython",
        "version": 3
      },
      "file_extension": ".py",
      "mimetype": "text/x-python",
      "name": "python",
      "nbconvert_exporter": "python",
      "pygments_lexer": "ipython3",
      "version": "3.6.4"
    },
    "colab": {
      "name": "One-Shot-Learning-for-Face-Recognition.ipynb",
      "provenance": [],
      "collapsed_sections": [],
      "include_colab_link": true
    },
    "accelerator": "GPU"
  },
  "cells": [
    {
      "cell_type": "markdown",
      "metadata": {
        "id": "view-in-github",
        "colab_type": "text"
      },
      "source": [
        "<a href=\"https://colab.research.google.com/github/avillemin/One-Shot-Learning-for-Face-Recognition/blob/master/One_Shot_Learning_for_Face_Recognition.ipynb\" target=\"_parent\"><img src=\"https://colab.research.google.com/assets/colab-badge.svg\" alt=\"Open In Colab\"/></a>"
      ]
    },
    {
      "cell_type": "code",
      "metadata": {
        "id": "_0LiqkYexLKa",
        "colab_type": "code",
        "colab": {
          "base_uri": "https://localhost:8080/",
          "height": 34
        },
        "outputId": "5cf694f6-eb6a-40a8-f331-3b540e9e424f"
      },
      "source": [
        "from google.colab import drive\n",
        "drive.mount('/content/gdrive')"
      ],
      "execution_count": 3,
      "outputs": [
        {
          "output_type": "stream",
          "text": [
            "Drive already mounted at /content/gdrive; to attempt to forcibly remount, call drive.mount(\"/content/gdrive\", force_remount=True).\n"
          ],
          "name": "stdout"
        }
      ]
    },
    {
      "cell_type": "code",
      "metadata": {
        "id": "8xTTBGt8wWe9",
        "colab_type": "code",
        "colab": {}
      },
      "source": [
        "import torch\n",
        "import torch.nn as nn\n",
        "import torch.nn.functional as F\n",
        "import numpy as np\n",
        "\n",
        "class VGG_16(nn.Module):\n",
        "    def __init__(self):\n",
        "        super().__init__()\n",
        "        self.block_size = [2, 2, 3, 3, 3]\n",
        "        self.conv1_1 = nn.Conv2d(3, 64, 3, stride=1, padding=1)\n",
        "        self.conv1_2 = nn.Conv2d(64, 64, 3, stride=1, padding=1)\n",
        "        self.conv2_1 = nn.Conv2d(64, 128, 3, stride=1, padding=1)\n",
        "        self.conv2_2 = nn.Conv2d(128, 128, 3, stride=1, padding=1)\n",
        "        self.conv3_1 = nn.Conv2d(128, 256, 3, stride=1, padding=1)\n",
        "        self.conv3_2 = nn.Conv2d(256, 256, 3, stride=1, padding=1)\n",
        "        self.conv3_3 = nn.Conv2d(256, 256, 3, stride=1, padding=1)\n",
        "        self.conv4_1 = nn.Conv2d(256, 512, 3, stride=1, padding=1)\n",
        "        self.conv4_2 = nn.Conv2d(512, 512, 3, stride=1, padding=1)\n",
        "        self.conv4_3 = nn.Conv2d(512, 512, 3, stride=1, padding=1)\n",
        "        self.conv5_1 = nn.Conv2d(512, 512, 3, stride=1, padding=1)\n",
        "        self.conv5_2 = nn.Conv2d(512, 512, 3, stride=1, padding=1)\n",
        "        self.conv5_3 = nn.Conv2d(512, 512, 3, stride=1, padding=1)\n",
        "        self.fc6 = nn.Linear(512 * 7 * 7, 4096)\n",
        "        self.fc7 = nn.Linear(4096, 4096)\n",
        "        self.fc8 = nn.Linear(4096, 2622)\n",
        "\n",
        "    def forward(self, x):\n",
        "        \"\"\" Pytorch forward\n",
        "        Args:\n",
        "            x: input image (224x224)\n",
        "        Returns: class logits\n",
        "        \"\"\"\n",
        "        x = F.relu(self.conv1_1(x))\n",
        "        x = F.relu(self.conv1_2(x))\n",
        "        x = F.max_pool2d(x, 2, 2)\n",
        "        x = F.relu(self.conv2_1(x))\n",
        "        x = F.relu(self.conv2_2(x))\n",
        "        x = F.max_pool2d(x, 2, 2)\n",
        "        x = F.relu(self.conv3_1(x))\n",
        "        x = F.relu(self.conv3_2(x))\n",
        "        x = F.relu(self.conv3_3(x))\n",
        "        x = F.max_pool2d(x, 2, 2)\n",
        "        x = F.relu(self.conv4_1(x))\n",
        "        x = F.relu(self.conv4_2(x))\n",
        "        x = F.relu(self.conv4_3(x))\n",
        "        x = F.max_pool2d(x, 2, 2)\n",
        "        x = F.relu(self.conv5_1(x))\n",
        "        x = F.relu(self.conv5_2(x))\n",
        "        x = F.relu(self.conv5_3(x))\n",
        "        x = F.max_pool2d(x, 2, 2)\n",
        "        x = x.view(x.size(0), -1)\n",
        "        x = F.relu(self.fc6(x))\n",
        "        x = F.dropout(x, 0.5, self.training)\n",
        "        x = self.fc7(x)\n",
        "        # x = F.dropout(x, 0.5, self.training)\n",
        "        # x = self.fc8(x)\n",
        "        return x\n"
      ],
      "execution_count": 0,
      "outputs": []
    },
    {
      "cell_type": "code",
      "metadata": {
        "id": "e1Qgxhmp0E25",
        "colab_type": "code",
        "colab": {
          "base_uri": "https://localhost:8080/",
          "height": 34
        },
        "outputId": "42861dd6-c239-4899-8fe0-7178227154ff"
      },
      "source": [
        "from PIL import Image\n",
        "\n",
        "class Network():\n",
        "    def __init__(self, load_path = None):\n",
        "        self.cuda = torch.cuda.is_available()\n",
        "        self.device = torch.device(\"cuda\" if self.cuda else \"cpu\")\n",
        "        print(\"Classifier running on GPU\" if self.cuda else \"Classifier running on CPU\")\n",
        "        self.model = VGG_16().to(self.device)\n",
        "        if load_path!=None:\n",
        "            self.model.load_state_dict(torch.load(load_path))\n",
        "        self.loss_f = nn.L1Loss()\n",
        "\n",
        "    def predict(self, im1, im2):\n",
        "        self.model.eval()\n",
        "        with torch.no_grad():\n",
        "            output1 = self.model(self.preprocess_image(im1).unsqueeze(0))\n",
        "            output2 = self.model(self.preprocess_image(im2).unsqueeze(0))\n",
        "        return self.loss_f(output1,output2)\n",
        "\n",
        "    def preprocess_image(self, img):\n",
        "        img = img.resize((224, 224), Image.ANTIALIAS)\n",
        "        try:\n",
        "            img = np.array([img.getdata(0),img.getdata(1),img.getdata(2)])\n",
        "        except:\n",
        "            img = np.array([img.getdata(0),img.getdata(0),img.getdata(0)])\n",
        "        \n",
        "        img = torch.tensor(img.reshape(3,224,224)).float().to(self.device)\n",
        "        return img\n",
        "\n",
        "classifier = Network('/content/gdrive/My Drive/CodeML/vgg_face_dag.pth')"
      ],
      "execution_count": 26,
      "outputs": [
        {
          "output_type": "stream",
          "text": [
            "Classifier running on GPU\n"
          ],
          "name": "stdout"
        }
      ]
    },
    {
      "cell_type": "code",
      "metadata": {
        "id": "UP2Pjd4hwWfM",
        "colab_type": "code",
        "colab": {}
      },
      "source": [
        "from PIL import Image\n",
        "im1 = Image.open('/content/gdrive/My Drive/CodeML/predict/74fdcc320a503148.jpg')"
      ],
      "execution_count": 0,
      "outputs": []
    },
    {
      "cell_type": "code",
      "metadata": {
        "id": "Iq0GYQA39Jlv",
        "colab_type": "code",
        "colab": {}
      },
      "source": [
        "import glob\n",
        "result = []\n",
        "for pred_file in glob.glob(\"/content/gdrive/My Drive/CodeML/predict/*\"):\n",
        "    pred_img = Image.open(pred_file)\n",
        "    mini = 1000 \n",
        "    predict = None\n",
        "    for file in glob.glob(\"/content/gdrive/My Drive/CodeML/identity/*\"):\n",
        "        try:\n",
        "            im2 = Image.open(file)\n",
        "            score = classifier.predict(im1,im2)\n",
        "            if score<mini:\n",
        "                mini = score\n",
        "                predict = file\n",
        "        except:\n",
        "            pass\n",
        "    result.append([pred_file.split('/')[-1],predict])"
      ],
      "execution_count": 0,
      "outputs": []
    }
  ]
}